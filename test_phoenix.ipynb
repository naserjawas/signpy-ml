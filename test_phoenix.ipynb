{
  "cells": [
    {
      "cell_type": "markdown",
      "metadata": {
        "id": "view-in-github",
        "colab_type": "text"
      },
      "source": [
        "<a href=\"https://colab.research.google.com/github/naserjawas/signpy-ml/blob/main/test_phoenix.ipynb\" target=\"_parent\"><img src=\"https://colab.research.google.com/assets/colab-badge.svg\" alt=\"Open In Colab\"/></a>"
      ]
    },
    {
      "cell_type": "markdown",
      "source": [
        "# Test ASLR System using Phoenix Dataset\n",
        "\n",
        "Author: Naser Jawas\n",
        "\n",
        "Created date: 1 August 2024"
      ],
      "metadata": {
        "id": "loPzn98gX6J7"
      }
    },
    {
      "cell_type": "markdown",
      "metadata": {
        "id": "tEVQKTLNEoHy"
      },
      "source": [
        "### Connect to Google Drive"
      ]
    },
    {
      "cell_type": "code",
      "execution_count": null,
      "metadata": {
        "id": "pllF_ivlEL8A"
      },
      "outputs": [],
      "source": [
        "from google.colab import drive\n",
        "drive.mount('/content/drive')"
      ]
    },
    {
      "cell_type": "markdown",
      "metadata": {
        "id": "BEnoID7rE829"
      },
      "source": [
        "### Import Files"
      ]
    },
    {
      "cell_type": "markdown",
      "source": [
        "**Copy pre-trained files from google drive**\n",
        "\n",
        "The training process is located in *phoenix_recognise_mhi_gloss.ipynb*"
      ],
      "metadata": {
        "id": "i-SULtr__XS_"
      }
    },
    {
      "cell_type": "code",
      "execution_count": null,
      "metadata": {
        "id": "VrH9_BSoFECg"
      },
      "outputs": [],
      "source": [
        "!mkdir -p /content/dataset/RWTHPHOENIXWeather2014/classifiers/\n",
        "!cp -v /content/drive/MyDrive/classifiers/j10clf1_30[b,f] /content/dataset/RWTHPHOENIXWeather2014/classifiers/\n",
        "!cp -v /content/drive/MyDrive/classifiers/j10clf1_50[b,f] /content/dataset/RWTHPHOENIXWeather2014/classifiers/"
      ]
    },
    {
      "cell_type": "markdown",
      "source": [
        "**Copy ngram files**\n",
        "\n",
        "The ngram files are generated using *phoenix_ngram.py*"
      ],
      "metadata": {
        "id": "ZVRCmZQ5_dyT"
      }
    },
    {
      "cell_type": "code",
      "source": [
        "!mkdir -p /content/dataset/RWTHPHOENIXWeather2014/ngram_files/\n",
        "!cp -v /content/drive/MyDrive/ngram_files/* /content/dataset/RWTHPHOENIXWeather2014/ngram_files/"
      ],
      "metadata": {
        "id": "w9nzTPot_g60"
      },
      "execution_count": null,
      "outputs": []
    },
    {
      "cell_type": "markdown",
      "source": [
        "**Copy segment files**\n",
        "\n",
        "The segment files are generated using *phoenix_segment.py*\n",
        "\n"
      ],
      "metadata": {
        "id": "0xzNhJJuCB4c"
      }
    },
    {
      "cell_type": "code",
      "source": [
        "!mkdir -p /content/dataset/RWTHPHOENIXWeather2014/segment_files/\n",
        "!cp -v /content/drive/MyDrive/segment_files/* /content/dataset/RWTHPHOENIXWeather2014/segment_files/"
      ],
      "metadata": {
        "id": "CdsGPTerCLKe"
      },
      "execution_count": null,
      "outputs": []
    },
    {
      "cell_type": "markdown",
      "source": [
        "### Imports"
      ],
      "metadata": {
        "id": "5FGelzymJWCI"
      }
    },
    {
      "cell_type": "code",
      "source": [
        "import os\n",
        "import pickle\n",
        "import glob\n",
        "import cv2 as cv\n",
        "import numpy as np\n",
        "\n",
        "from sklearn.preprocessing import LabelEncoder"
      ],
      "metadata": {
        "id": "bWR4Q5U7JU7X"
      },
      "execution_count": null,
      "outputs": []
    },
    {
      "cell_type": "markdown",
      "source": [
        "### Functions"
      ],
      "metadata": {
        "id": "1vdp3tszJaf9"
      }
    },
    {
      "cell_type": "code",
      "source": [
        "def load_clf(drive, glosstype, glossp, mhitype, limitsample):\n",
        "    rootdir = drive + f\"/classifiers/\"\n",
        "    filename = rootdir + f\"j{limitsample}clf{glosstype}_{glossp}{mhitype}\"\n",
        "    if not os.path.exists(filename):\n",
        "        print(\"Classifier:\", filename, \"does not exist\")\n",
        "        exit()\n",
        "    print(filename)\n",
        "    with open(filename, 'rb') as pf:\n",
        "        clfobj = pickle.load(pf)\n",
        "    print(filename, \"loaded...\")\n",
        "    print(clfobj)\n",
        "\n",
        "    return clfobj"
      ],
      "metadata": {
        "id": "l4-lb1boJcu-"
      },
      "execution_count": null,
      "outputs": []
    },
    {
      "cell_type": "code",
      "source": [
        "def load_allmcm_video(datadir, dataname, glosstype, glossp, blankframe):\n",
        "    dataloc = datadir + dataname + f\"/1/allmcm{glossp}p*-{glosstype}.png\"\n",
        "    datafiles = sorted(glob.glob(dataloc))\n",
        "    dataframesori = [cv.imread(filename, cv.IMREAD_GRAYSCALE)\n",
        "                     for filename in datafiles]\n",
        "    dataframesori.insert(0, blankframe)\n",
        "    dataframes = [cv.resize(frame, (iw, ih))\n",
        "                  for frame in dataframesori]\n",
        "\n",
        "    return dataframes"
      ],
      "metadata": {
        "id": "Fy1hbfvXh-Ak"
      },
      "execution_count": null,
      "outputs": []
    },
    {
      "cell_type": "markdown",
      "source": [
        "### Settings"
      ],
      "metadata": {
        "id": "e8xqEh0vJ3ZW"
      }
    },
    {
      "cell_type": "code",
      "source": [
        "drive = \"/content/dataset/RWTHPHOENIXWeather2014\""
      ],
      "metadata": {
        "id": "dodnEaMeJ6EM"
      },
      "execution_count": null,
      "outputs": []
    },
    {
      "cell_type": "markdown",
      "source": [
        "### Main\n",
        "\n",
        "**Load the pre-trained classifiers:**"
      ],
      "metadata": {
        "id": "3Nb3o6gnJhyX"
      }
    },
    {
      "cell_type": "code",
      "source": [
        "cf30 = load_clf(drive, 1, 30, 'f', 10)\n",
        "cb30 = load_clf(drive, 1, 30, 'b', 10)"
      ],
      "metadata": {
        "id": "mpJwkLfZJLSX"
      },
      "execution_count": null,
      "outputs": []
    },
    {
      "cell_type": "code",
      "source": [
        "cf50 = load_clf(drive, 1, 50, 'f', 10)\n",
        "cb50 = load_clf(drive, 1, 50, 'b', 10)"
      ],
      "metadata": {
        "id": "66LOBapXcOa4"
      },
      "execution_count": null,
      "outputs": []
    },
    {
      "cell_type": "markdown",
      "source": [
        "**Load n-gram objects:**"
      ],
      "metadata": {
        "id": "b5xqcOtF4KwP"
      }
    },
    {
      "cell_type": "code",
      "source": [
        "n = 3\n",
        "\n",
        "with open(f\"/content/dataset/RWTHPHOENIXWeather2014/ngram_files/phoenix_{n}grams\", \"rb\") as pf:\n",
        "    ngrams = pickle.load(pf)\n",
        "pf.close()"
      ],
      "metadata": {
        "id": "dC03NdmM4vqb"
      },
      "execution_count": null,
      "outputs": []
    },
    {
      "cell_type": "markdown",
      "source": [
        "**Load filenames:**"
      ],
      "metadata": {
        "id": "gw6jzQeWkNm9"
      }
    },
    {
      "cell_type": "code",
      "source": [
        "gf, gb, gl ="
      ],
      "metadata": {
        "id": "SHUyFljjklhF"
      },
      "execution_count": null,
      "outputs": []
    },
    {
      "cell_type": "markdown",
      "source": [
        "**Label Encoder:**"
      ],
      "metadata": {
        "id": "niRK4K_wkglH"
      }
    },
    {
      "cell_type": "code",
      "source": [
        "le = LabelEncoder()\n",
        "le.fit(gl)"
      ],
      "metadata": {
        "id": "K4AaFHzOklBA"
      },
      "execution_count": null,
      "outputs": []
    },
    {
      "cell_type": "markdown",
      "source": [
        "**Load segments object:**"
      ],
      "metadata": {
        "id": "FpaX0Own4qDN"
      }
    },
    {
      "cell_type": "code",
      "source": [
        "glossp = 30\n",
        "glosstype = 2\n",
        "\n",
        "with open(f\"/content/dataset/RWTHPHOENIXWeather2014/segments_{glossp}p_{glosstype}\", \"rb\") as pf:\n",
        "    segments = pickle.load(pf)\n",
        "pf.close()"
      ],
      "metadata": {
        "id": "-U-ECi3i4ww1"
      },
      "execution_count": null,
      "outputs": []
    },
    {
      "cell_type": "markdown",
      "source": [
        "**Load test directory:**"
      ],
      "metadata": {
        "id": "ifUBwHQrgmY9"
      }
    },
    {
      "cell_type": "code",
      "source": [
        "drive = \"/content/dataset/RWTHPHOENIXWeather2014\"\n",
        "datadir = drive + \"/phoenix2014-release/phoenix-2014-multisigner/features/fullFrame-210x260px/test/\"\n",
        "datanames = sorted(os.listdir(datadir))\n",
        "if datanames[0] == \".DS_Store\":\n",
        "    datanames.pop(0)\n",
        "print(len(datanames), \"data available...\")\n",
        "iw, ih = 210, 300\n",
        "blankframe = np.zeros((iw, ih), dtype=np.uint8)"
      ],
      "metadata": {
        "id": "fuSGNOrkmcCQ"
      },
      "execution_count": null,
      "outputs": []
    },
    {
      "cell_type": "markdown",
      "source": [
        "**Load test data:**"
      ],
      "metadata": {
        "id": "JD7k62IEhYYa"
      }
    },
    {
      "cell_type": "code",
      "source": [
        "datanamespart = datanames[1:2]"
      ],
      "metadata": {
        "id": "GRJgoxjwgQRf"
      },
      "execution_count": null,
      "outputs": []
    },
    {
      "cell_type": "markdown",
      "source": [
        "**Recognition proces:**"
      ],
      "metadata": {
        "id": "MhjQ40FymXGM"
      }
    },
    {
      "cell_type": "code",
      "source": [
        "finalresults = []\n",
        "for dataname_i, dataname in enumerate(datanamespart):\n",
        "    # load original data frames\n",
        "    dataloc = datadir + dataname + f\"/1/*-0.png\"\n",
        "    datafiles = sorted(glob.glob(dataloc))\n",
        "    lendatafiles = len(datafiles)\n",
        "    print(\"(\", dataname_i + 1, \"/\", len(datanamespart),\")\",\n",
        "          dataname, \"has\", lendatafiles, \"frames\")\n",
        "    imgori = [cv.imread(filename, cv.IMREAD_COLOR)\n",
        "              for filename in datafiles]\n",
        "    dataori = [cv.resize(img, (iw, ih))\n",
        "               for img in imgori]\n",
        "    peaks = segments[dataname]\n",
        "    peaks.insert(0, 0)\n",
        "    peaks.append(lendatafiles-1)\n",
        "    allmcm = load_allmcm_video(datadir, dataname, glosstype, glossp, blankframe)\n",
        "    glossresult1 = []\n",
        "\n",
        "    glossresult1 = find_path(dataori, dataname, glossresult1, ngrams, peaks, cw, allmcm, cf, cb)\n",
        "    listgloss = [g[0] for g in glossresult1]\n",
        "    finalresults.append((dataname, listgloss))"
      ],
      "metadata": {
        "id": "WDDg9i2ZmfdX"
      },
      "execution_count": null,
      "outputs": []
    },
    {
      "cell_type": "markdown",
      "source": [
        "**Save the results:**"
      ],
      "metadata": {
        "id": "aRxBLjK41PPH"
      }
    },
    {
      "cell_type": "code",
      "source": [
        "with open('finalresults', 'wb') as pf:\n",
        "    pickle.dump(finalresults, pf)\n",
        "pf.close()"
      ],
      "metadata": {
        "id": "xYi3qZjf1RRR"
      },
      "execution_count": null,
      "outputs": []
    }
  ],
  "metadata": {
    "colab": {
      "machine_shape": "hm",
      "provenance": [],
      "authorship_tag": "ABX9TyO4uA/3pJ1owA3/BK8TEaDx",
      "include_colab_link": true
    },
    "kernelspec": {
      "display_name": "Python 3",
      "name": "python3"
    },
    "language_info": {
      "name": "python"
    }
  },
  "nbformat": 4,
  "nbformat_minor": 0
}